{
 "cells": [
  {
   "cell_type": "code",
   "execution_count": 6,
   "metadata": {},
   "outputs": [],
   "source": [
    "# exploratory data analysis"
   ]
  },
  {
   "cell_type": "code",
   "execution_count": 12,
   "metadata": {},
   "outputs": [],
   "source": [
    "import pandas as pd\n",
    "import matplotlib.pyplot as plt\n",
    "import seaborn as sns\n",
    "import os\n",
    "import ipywidgets as widgets\n",
    "from IPython.display import display"
   ]
  },
  {
   "cell_type": "code",
   "execution_count": 17,
   "metadata": {},
   "outputs": [
    {
     "name": "stderr",
     "output_type": "stream",
     "text": [
      "/var/folders/zy/kq72dddn62n0l225t1mm0w9m0000gr/T/ipykernel_9574/1593456082.py:1: DtypeWarning: Columns (32) have mixed types. Specify dtype option on import or set low_memory=False.\n",
      "  df = pd.read_csv('/Users/22holleranm/bios635/bios635/Test1.csv', encoding='latin1')\n"
     ]
    }
   ],
   "source": [
    "\n",
    "df = pd.read_csv('/Users/22holleranm/bios635/bios635/Test1.csv', encoding='latin1')\n",
    "\n",
    "numeric_cols = ['HOSPNUM', 'RDELAY', 'AGE', 'RSBP', 'HOURLOCAL', 'MINLOCAL', 'ONDRUG', \n",
    "    'DMAJNCHD', 'DSIDED', 'DRSISCD', 'DRSHD', 'DRSUNKD', 'DPED', 'DALIVED', 'DDEADD', \n",
    "    'FLASTD','FDEADD', 'FU1_RECD', 'FU2_DONE', 'FU1_COMP', 'TD', 'EXPDD', 'EXPD6', 'EXPD14'\n",
    "]\n",
    "\n",
    "categorical_cols = ['RCONSC', 'SEX','RSLEEP', 'RATRIAL', 'RCT', \n",
    "    'RVISINF', 'RHEP24', 'RASP3', 'RDEF1', 'RDEF2', 'RDEF3', 'RDEF4', 'RDEF5',\n",
    "    'RDEF6', 'RDEF7', 'RDEF8', 'STYPE', 'DAYLOCAL', 'RXASP', 'RXHEP', 'DASP14', \n",
    "    'DASPLT', 'DLH14', 'DMH14', 'DHH14', 'DSCH', 'DIVH', 'DAP', 'DOAC', 'DGORM', \n",
    "    'DSTER', 'DCAA', 'DHAEMD', 'DCAREND', 'DTHROMB', 'DMAJNCH', 'DSIDE', 'DDIAGISC', \n",
    "    'DDIAGHA', 'DDIAGUN', 'DNOSTRK', 'DRSISC', 'DRSH', 'DRSUNK', 'DPE', 'DALIVE',\n",
    "    'DPLACE', 'DDEAD', 'DDEADC', 'FDEAD', 'FDEADC', 'FRECOVER', 'FDENNIS', 'FPLACE',\n",
    "    'FAP', 'FOAC', 'COUNTRY', 'CNTRYNUM', 'CMPLASP', 'CMPLHEP', 'ID', 'SET14D', \n",
    "    'ID14', 'OCCODE', 'DEAD1', 'DEAD2', 'DEAD3', 'DEAD4', 'DEAD5', 'DEAD6', 'DEAD7', \n",
    "    'DEAD8', 'H14', 'ISC14', 'NK14', 'STRK14', 'HTI14', 'PE14', 'DVT14', 'TRAN14', 'NCB14'\n",
    "]"
   ]
  },
  {
   "cell_type": "code",
   "execution_count": 15,
   "metadata": {},
   "outputs": [
    {
     "data": {
      "application/vnd.jupyter.widget-view+json": {
       "model_id": "7a20a34a37844410a74312dc6ea2a1ae",
       "version_major": 2,
       "version_minor": 0
      },
      "text/plain": [
       "interactive(children=(Dropdown(description='Variable:', options=('HOSPNUM', 'RDELAY', 'AGE', 'RSBP', 'HOURLOCA…"
      ]
     },
     "metadata": {},
     "output_type": "display_data"
    },
    {
     "data": {
      "text/plain": [
       "<function __main__.plot_num(col)>"
      ]
     },
     "execution_count": 15,
     "metadata": {},
     "output_type": "execute_result"
    }
   ],
   "source": [
    "def plot_num(col):\n",
    "    if col in df.columns and df[col].dropna().nunique() > 1:\n",
    "        plt.figure(figsize=(8, 4))\n",
    "        sns.kdeplot(df[col].dropna(), fill=True)\n",
    "        plt.title(f'Density Plot for {col}')\n",
    "        plt.xlabel(col)\n",
    "        plt.tight_layout()\n",
    "        plt.ylabel('Density')\n",
    "        plt.show()\n",
    "\n",
    "dropdown = widgets.Dropdown(options=numeric_cols, description='Variable:')\n",
    "widgets.interact(plot_num, col=dropdown)"
   ]
  },
  {
   "cell_type": "code",
   "execution_count": 21,
   "metadata": {},
   "outputs": [
    {
     "data": {
      "application/vnd.jupyter.widget-view+json": {
       "model_id": "db7b50c4f82c4b3887f5d3c2ca4b7464",
       "version_major": 2,
       "version_minor": 0
      },
      "text/plain": [
       "interactive(children=(Dropdown(description='Variable:', options=('RCONSC', 'SEX', 'RSLEEP', 'RATRIAL', 'RCT', …"
      ]
     },
     "metadata": {},
     "output_type": "display_data"
    },
    {
     "data": {
      "text/plain": [
       "<function __main__.plot_cat(col)>"
      ]
     },
     "execution_count": 21,
     "metadata": {},
     "output_type": "execute_result"
    }
   ],
   "source": [
    "def plot_cat(col):\n",
    "    plt.figure(figsize=(6, 6))\n",
    "    df[col].value_counts(dropna=False).plot.pie(\n",
    "        autopct='%1.1f%%',\n",
    "        startangle=90,\n",
    "        wedgeprops=dict(width=0.5)\n",
    "    )\n",
    "    plt.title(f'Pie Chart of {col}')\n",
    "    plt.ylabel('')\n",
    "    plt.tight_layout()\n",
    "    plt.show()\n",
    "\n",
    "dropdown = widgets.Dropdown(options=categorical_cols, description='Variable:')\n",
    "widgets.interact(plot_cat, col=dropdown)"
   ]
  }
 ],
 "metadata": {
  "kernelspec": {
   "display_name": "base",
   "language": "python",
   "name": "python3"
  },
  "language_info": {
   "codemirror_mode": {
    "name": "ipython",
    "version": 3
   },
   "file_extension": ".py",
   "mimetype": "text/x-python",
   "name": "python",
   "nbconvert_exporter": "python",
   "pygments_lexer": "ipython3",
   "version": "3.12.4"
  }
 },
 "nbformat": 4,
 "nbformat_minor": 2
}
